{
 "cells": [
  {
   "cell_type": "markdown",
   "metadata": {
    "_uuid": "236f568b8725dacc7257704a16398edc12582316"
   },
   "source": [
    "# Load packages"
   ]
  },
  {
   "cell_type": "code",
   "execution_count": 35,
   "metadata": {
    "_cell_guid": "79c7e3d0-c299-4dcb-8224-4455121ee9b0",
    "_uuid": "d629ff2d2480ee46fbb7e2d37f6b5fab8052498a",
    "collapsed": true
   },
   "outputs": [],
   "source": [
    "%matplotlib inline\n",
    "import numpy as np\n",
    "import pandas as pd\n",
    "from sklearn.feature_extraction.text import TfidfVectorizer\n",
    "import matplotlib\n",
    "import matplotlib.pyplot as plt\n",
    "from nltk.corpus import stopwords\n",
    "from nltk.tokenize import word_tokenize\n",
    "import re, os\n",
    "import numpy as np\n",
    "import pickle\n",
    "from sklearn.linear_model import LogisticRegression\n",
    "from sklearn import metrics\n",
    "from sklearn.metrics import f1_score\n",
    "from sklearn.model_selection import train_test_split\n",
    "import warnings\n",
    "warnings.filterwarnings(\"ignore\")"
   ]
  },
  {
   "cell_type": "markdown",
   "metadata": {
    "_uuid": "cde9160b12dd0e842f39188462d5f30539b4d3e8"
   },
   "source": [
    "# Load data and analyze"
   ]
  },
  {
   "cell_type": "code",
   "execution_count": 29,
   "metadata": {
    "_uuid": "08149329bfd8d2fd2a0ff067007833154fdb9e8d"
   },
   "outputs": [
    {
     "name": "stdout",
     "output_type": "stream",
     "text": [
      "=====Train dataset======\n",
      "0    1102783\n",
      "1      72726\n",
      "Name: target, dtype: int64\n",
      "=====Test dataset=======\n",
      "0    122529\n",
      "1      8084\n",
      "Name: target, dtype: int64\n",
      "========================\n"
     ]
    },
    {
     "data": {
      "image/png": "[encoded data removed]",
      "text/plain": [
       "<Figure size 432x288 with 1 Axes>"
      ]
     },
     "metadata": {},
     "output_type": "display_data"
    },
    {
     "data": {
      "image/png": "[encoded data removed]",
      "text/plain": [
       "<Figure size 432x288 with 1 Axes>"
      ]
     },
     "metadata": {},
     "output_type": "display_data"
    },
    {
     "data": {
      "text/html": [
       "<div>\n",
       "<style scoped>\n",
       "    .dataframe tbody tr th:only-of-type {\n",
       "        vertical-align: middle;\n",
       "    }\n",
       "\n",
       "    .dataframe tbody tr th {\n",
       "        vertical-align: top;\n",
       "    }\n",
       "\n",
       "    .dataframe thead th {\n",
       "        text-align: right;\n",
       "    }\n",
       "</style>\n",
       "<table border=\"1\" class=\"dataframe\">\n",
       "  <thead>\n",
       "    <tr style=\"text-align: right;\">\n",
       "      <th></th>\n",
       "      <th>qid</th>\n",
       "      <th>question_text</th>\n",
       "      <th>target</th>\n",
       "    </tr>\n",
       "  </thead>\n",
       "  <tbody>\n",
       "    <tr>\n",
       "      <th>396890</th>\n",
       "      <td>4dc135b62e7d1dee8be7</td>\n",
       "      <td>Does abdominal size/strength correlate with he...</td>\n",
       "      <td>0</td>\n",
       "    </tr>\n",
       "    <tr>\n",
       "      <th>579802</th>\n",
       "      <td>719af0a616f39331d04a</td>\n",
       "      <td>Which celebrity of this era do you believe to ...</td>\n",
       "      <td>0</td>\n",
       "    </tr>\n",
       "    <tr>\n",
       "      <th>90860</th>\n",
       "      <td>11cd20ead60b0358e1b6</td>\n",
       "      <td>When did you stop eating meat?</td>\n",
       "      <td>0</td>\n",
       "    </tr>\n",
       "    <tr>\n",
       "      <th>297020</th>\n",
       "      <td>3a27b4672f61b16903fe</td>\n",
       "      <td>What are some best online film recommendation ...</td>\n",
       "      <td>0</td>\n",
       "    </tr>\n",
       "    <tr>\n",
       "      <th>105677</th>\n",
       "      <td>14b085fea2d77b088045</td>\n",
       "      <td>Are there any laptops that can be charged by U...</td>\n",
       "      <td>0</td>\n",
       "    </tr>\n",
       "  </tbody>\n",
       "</table>\n",
       "</div>"
      ],
      "text/plain": [
       "                         qid  ...   target\n",
       "396890  4dc135b62e7d1dee8be7  ...        0\n",
       "579802  719af0a616f39331d04a  ...        0\n",
       "90860   11cd20ead60b0358e1b6  ...        0\n",
       "297020  3a27b4672f61b16903fe  ...        0\n",
       "105677  14b085fea2d77b088045  ...        0\n",
       "\n",
       "[5 rows x 3 columns]"
      ]
     },
     "execution_count": 29,
     "metadata": {},
     "output_type": "execute_result"
    }
   ],
   "source": [
    "# Load data\n",
    "data_df = pd.read_csv(\"../input/train.csv\")\n",
    "\n",
    "# Split into train and test\n",
    "train_df, test_df = train_test_split(data_df, test_size = 0.1, random_state=55)\n",
    "\n",
    "# Print data statistics \n",
    "print(\"=====Train dataset======\")\n",
    "print(train_df.target.value_counts())\n",
    "print(\"=====Test dataset=======\")\n",
    "print(test_df.target.value_counts())\n",
    "print(\"========================\")\n",
    "\n",
    "# Print pie chart\n",
    "train_slices = train_df.target.value_counts().tolist()\n",
    "labels = ['Legitimate Questions', 'Insincere Questions']\n",
    "colors = ['y', 'r']\n",
    "plt.pie(train_slices, labels = labels, colors = colors, startangle=90, autopct='%.1f%%')\n",
    "plt.title('Training data', fontweight = \"bold\")\n",
    "plt.show()\n",
    "plt.figure()\n",
    "test_slices = test_df.target.value_counts().tolist()\n",
    "labels = ['Legitimate Questions', 'Insincere Questions']\n",
    "colors = ['g', 'r']\n",
    "plt.pie(test_slices, labels = labels, colors = colors, startangle=90, autopct='%.1f%%')\n",
    "plt.title('Test data', fontweight = \"bold\")\n",
    "plt.show()\n",
    "train_df.head()\n"
   ]
  },
  {
   "cell_type": "markdown",
   "metadata": {
    "_uuid": "f507446c109be3bc60a91165af9b68e8dc956bc2"
   },
   "source": [
    "# Preprocess data"
   ]
  },
  {
   "cell_type": "code",
   "execution_count": 36,
   "metadata": {
    "_uuid": "8b71f5110c75ee4cbbb460734428644ba2c46384"
   },
   "outputs": [
    {
     "data": {
      "text/html": [
       "<div>\n",
       "<style scoped>\n",
       "    .dataframe tbody tr th:only-of-type {\n",
       "        vertical-align: middle;\n",
       "    }\n",
       "\n",
       "    .dataframe tbody tr th {\n",
       "        vertical-align: top;\n",
       "    }\n",
       "\n",
       "    .dataframe thead th {\n",
       "        text-align: right;\n",
       "    }\n",
       "</style>\n",
       "<table border=\"1\" class=\"dataframe\">\n",
       "  <thead>\n",
       "    <tr style=\"text-align: right;\">\n",
       "      <th></th>\n",
       "      <th>qid</th>\n",
       "      <th>question_text</th>\n",
       "      <th>target</th>\n",
       "      <th>processed_text</th>\n",
       "    </tr>\n",
       "  </thead>\n",
       "  <tbody>\n",
       "    <tr>\n",
       "      <th>396890</th>\n",
       "      <td>4dc135b62e7d1dee8be7</td>\n",
       "      <td>Does abdominal size/strength correlate with he...</td>\n",
       "      <td>0</td>\n",
       "      <td>abdominal size strength correlate hernia occur...</td>\n",
       "    </tr>\n",
       "    <tr>\n",
       "      <th>579802</th>\n",
       "      <td>719af0a616f39331d04a</td>\n",
       "      <td>Which celebrity of this era do you believe to ...</td>\n",
       "      <td>0</td>\n",
       "      <td>celebrity era believe controversial</td>\n",
       "    </tr>\n",
       "    <tr>\n",
       "      <th>90860</th>\n",
       "      <td>11cd20ead60b0358e1b6</td>\n",
       "      <td>When did you stop eating meat?</td>\n",
       "      <td>0</td>\n",
       "      <td>stop eating meat</td>\n",
       "    </tr>\n",
       "    <tr>\n",
       "      <th>297020</th>\n",
       "      <td>3a27b4672f61b16903fe</td>\n",
       "      <td>What are some best online film recommendation ...</td>\n",
       "      <td>0</td>\n",
       "      <td>best online film recommendation systems</td>\n",
       "    </tr>\n",
       "    <tr>\n",
       "      <th>105677</th>\n",
       "      <td>14b085fea2d77b088045</td>\n",
       "      <td>Are there any laptops that can be charged by U...</td>\n",
       "      <td>0</td>\n",
       "      <td>laptops charged usb common</td>\n",
       "    </tr>\n",
       "  </tbody>\n",
       "</table>\n",
       "</div>"
      ],
      "text/plain": [
       "                         qid                        ...                                                             processed_text\n",
       "396890  4dc135b62e7d1dee8be7                        ...                          abdominal size strength correlate hernia occur...\n",
       "579802  719af0a616f39331d04a                        ...                                        celebrity era believe controversial\n",
       "90860   11cd20ead60b0358e1b6                        ...                                                           stop eating meat\n",
       "297020  3a27b4672f61b16903fe                        ...                                    best online film recommendation systems\n",
       "105677  14b085fea2d77b088045                        ...                                                 laptops charged usb common\n",
       "\n",
       "[5 rows x 4 columns]"
      ]
     },
     "execution_count": 36,
     "metadata": {},
     "output_type": "execute_result"
    }
   ],
   "source": [
    "# Import stopwords\n",
    "stopWords = set(stopwords.words('english'))\n",
    "# Remove characters that are not alphabets\n",
    "train_df[\"processed_text\"] = train_df[\"question_text\"].apply(lambda x: re.sub(\"[^a-zA-Z]\", \" \", x))\n",
    "test_df[\"processed_text\"] = test_df[\"question_text\"].apply(lambda x: re.sub(\"[^a-zA-Z]\", \" \", x))\n",
    "# Lower case all alphabets\n",
    "train_df[\"processed_text\"] = train_df[\"processed_text\"].apply(lambda x: x.lower())\n",
    "test_df[\"processed_text\"] = test_df[\"processed_text\"].apply(lambda x: x.lower())\n",
    "# Remove stopwords\n",
    "train_df[\"processed_text\"] = train_df[\"processed_text\"].apply(lambda x:\" \".join([item for item in word_tokenize(x) if item not in stopWords]))\n",
    "test_df[\"processed_text\"] = test_df[\"processed_text\"].apply(lambda x:\" \".join([item for item in word_tokenize(x) if item not in stopWords]))\n",
    "train_df.head()"
   ]
  },
  {
   "cell_type": "markdown",
   "metadata": {
    "_uuid": "d8ac0cafbf59a039d7002e0e59e55dbb9e6c40c8"
   },
   "source": [
    "# Analyze most common words (unigrams) in train data"
   ]
  },
  {
   "cell_type": "code",
   "execution_count": 41,
   "metadata": {
    "_uuid": "40530416d76431f2f668de3709e06b0a1f18c974"
   },
   "outputs": [
    {
     "data": {
      "text/plain": [
       "<matplotlib.axes._subplots.AxesSubplot at 0x7f56bdc44dd8>"
      ]
     },
     "execution_count": 41,
     "metadata": {},
     "output_type": "execute_result"
    },
    {
     "data": {
      "image/png": "[encoded data removed]",
      "text/plain": [
       "<Figure size 432x288 with 1 Axes>"
      ]
     },
     "metadata": {},
     "output_type": "display_data"
    },
    {
     "data": {
      "image/png": "[encoded data removed]",
      "text/plain": [
       "<Figure size 432x288 with 1 Axes>"
      ]
     },
     "metadata": {},
     "output_type": "display_data"
    }
   ],
   "source": [
    "# Analyzing unigrams in insincere questions only\n",
    "train_df_ones = train_df[train_df[\"target\"]==1]\n",
    "train_df_zeros = train_df[train_df[\"target\"]==0]\n",
    "most_common_words_ones = pd.Series(word_tokenize(\" \".join(train_df_ones[\"processed_text\"]))).value_counts()[:10][::-1]\n",
    "plt.figure()\n",
    "plt.title('Most common words in insincere questions')\n",
    "most_common_words_ones.plot.barh()\n",
    "\n",
    "# Analyzing unigrams in legitimate questions\n",
    "train_df_zeros = train_df[train_df[\"target\"]==0]\n",
    "most_common_words_zeros = pd.Series(word_tokenize(\" \".join(train_df_zeros[\"processed_text\"]))).value_counts()[:10][::-1]\n",
    "plt.figure()\n",
    "plt.title('Most common words in legitimate questions')\n",
    "most_common_words_zeros.plot.barh()"
   ]
  },
  {
   "cell_type": "markdown",
   "metadata": {
    "_uuid": "342ebed5458b416124465c8a89046aef4542b34f"
   },
   "source": [
    "# Compute tf-idf transform"
   ]
  },
  {
   "cell_type": "code",
   "execution_count": 42,
   "metadata": {
    "_uuid": "409370a6ca2634c9ccd34ee2fe6f612f07c25b9e",
    "collapsed": true
   },
   "outputs": [],
   "source": [
    "## Compute TfIdf transform of train and test data\n",
    "tfidf = TfidfVectorizer(stop_words = 'english', ngram_range = (1,3), min_df = 5, max_df = 0.8)\n",
    "tfidf.fit_transform(train_df[\"processed_text\"].tolist() + test_df[\"processed_text\"].tolist())\n",
    "train_tfidf = tfidf.transform(train_df[\"processed_text\"].tolist())\n",
    "test_tfidf = tfidf.transform(test_df[\"processed_text\"].tolist())"
   ]
  },
  {
   "cell_type": "markdown",
   "metadata": {
    "_uuid": "17370fed8835e5044fb75f42e1a3669cda6e7eab"
   },
   "source": [
    "# Use validation set to choose parameters"
   ]
  },
  {
   "cell_type": "code",
   "execution_count": 43,
   "metadata": {
    "_uuid": "d56d5ebdd6c56816a589fbc84dd66d23974ddb92"
   },
   "outputs": [
    {
     "name": "stdout",
     "output_type": "stream",
     "text": [
      "F1 scores with different thresholds at C = 0.01 are [0.46236811254396243, 0.49299617973440063, 0.5098286555240198, 0.5157096424702059, 0.4976024112892177, 0.4563380281690141, 0.3942497753818508, 0.30107084019769353]\n",
      "F1 scores with different thresholds at C = 0.1 are [0.5066195939982348, 0.5320412083115069, 0.5530948324815446, 0.5670050240951502, 0.575058508859913, 0.5761186770428016, 0.5645226265610312, 0.5403874813710879]\n",
      "F1 scores with different thresholds at C = 1 are [0.5459935478245707, 0.5658102216862999, 0.5821513002364067, 0.5941544885177453, 0.6006651884700666, 0.6036708111308466, 0.6023517511695535, 0.5887850467289719]\n",
      "F1 scores with different thresholds at C = 10 are [0.5526547374596655, 0.5627687896784763, 0.5673743731996158, 0.5737211634904714, 0.5746938775510204, 0.5779951100244499, 0.5829699923057194, 0.5801338980735073]\n"
     ]
    }
   ],
   "source": [
    "train_df2, val_df2 = train_test_split(train_df, test_size = 0.05, random_state=55)\n",
    "train_tfidf2 = tfidf.transform(train_df2[\"processed_text\"].tolist())\n",
    "val_tfidf2 = tfidf.transform(val_df2[\"processed_text\"].tolist())\n",
    "ls_values_C = [0.01, 0.1, 1, 10]\n",
    "ls_values_th = np.arange(0.5, 0.9, 0.05)\n",
    "\n",
    "for value_C in ls_values_C:\n",
    "    logreg = LogisticRegression(C = value_C, solver = 'liblinear', class_weight = 'balanced')\n",
    "    logreg.fit(train_tfidf2, train_df2.target)\n",
    "    val_pred = logreg.predict_proba(val_tfidf2)[:,1]\n",
    "    ls_f1_thresholds = []\n",
    "    for value_th in ls_values_th:\n",
    "        ls_f1_thresholds.append(f1_score(val_pred>value_th, val_df2.target, pos_label=1))\n",
    "    print('F1 scores with different thresholds at C = {} are {}'.format(value_C, ls_f1_thresholds))"
   ]
  },
  {
   "cell_type": "markdown",
   "metadata": {
    "_uuid": "33626de1dc64dc20bf620d2f03c3b9865d4141ee"
   },
   "source": [
    "# Logistic Regression"
   ]
  },
  {
   "cell_type": "code",
   "execution_count": 49,
   "metadata": {
    "_kg_hide-output": true,
    "_uuid": "e43baae3399ba78a1c614139128549b6bc58da4c",
    "scrolled": true
   },
   "outputs": [
    {
     "name": "stdout",
     "output_type": "stream",
     "text": [
      "Mean Accuracy (test data):  0.911417699616424\n",
      "F1 score insincere questions (test data):  0.6007943323314727\n"
     ]
    }
   ],
   "source": [
    "logreg = LogisticRegression(C = 1.0, solver = 'liblinear', class_weight = 'balanced')\n",
    "logreg.fit(train_tfidf2, train_df2.target)\n",
    "test_pred = logreg.predict_proba(test_tfidf)[:,1] > 0.75\n",
    "print('Mean Accuracy (test data): ',logreg.score(test_tfidf, test_df.target))\n",
    "print('F1 score insincere questions (test data): ',f1_score(test_pred, test_df.target, pos_label=1))"
   ]
  },
  {
   "cell_type": "markdown",
   "metadata": {
    "_uuid": "167dccbc5e007d3caadb67e3abf3c3220512ed86"
   },
   "source": [
    "# Analyzing success and failures"
   ]
  },
  {
   "cell_type": "code",
   "execution_count": 88,
   "metadata": {
    "_uuid": "0fb6c28e1cf856ff29a10abe07b5f0d5d05d1b23",
    "scrolled": false
   },
   "outputs": [
    {
     "name": "stdout",
     "output_type": "stream",
     "text": [
      "\u001b[1mInsincere questions correctly identified:\u001b[0m\n"
     ]
    },
    {
     "data": {
      "text/html": [
       "<div>\n",
       "<style scoped>\n",
       "    .dataframe tbody tr th:only-of-type {\n",
       "        vertical-align: middle;\n",
       "    }\n",
       "\n",
       "    .dataframe tbody tr th {\n",
       "        vertical-align: top;\n",
       "    }\n",
       "\n",
       "    .dataframe thead th {\n",
       "        text-align: right;\n",
       "    }\n",
       "</style>\n",
       "<table border=\"1\" class=\"dataframe\">\n",
       "  <thead>\n",
       "    <tr style=\"text-align: right;\">\n",
       "      <th></th>\n",
       "      <th>qid</th>\n",
       "      <th>question_text</th>\n",
       "      <th>target</th>\n",
       "      <th>processed_text</th>\n",
       "    </tr>\n",
       "  </thead>\n",
       "  <tbody>\n",
       "    <tr>\n",
       "      <th>758416</th>\n",
       "      <td>94980117a140a86aec4a</td>\n",
       "      <td>Will Trump finally close the criminal, corrupt...</td>\n",
       "      <td>1</td>\n",
       "      <td>trump finally close criminal corrupt corporate...</td>\n",
       "    </tr>\n",
       "    <tr>\n",
       "      <th>11388</th>\n",
       "      <td>023dd124e7f79ab80849</td>\n",
       "      <td>Why are men with high and low IQ more common t...</td>\n",
       "      <td>1</td>\n",
       "      <td>men high low iq common women</td>\n",
       "    </tr>\n",
       "    <tr>\n",
       "      <th>478399</th>\n",
       "      <td>5dadf5ffa51839a040bb</td>\n",
       "      <td>Why are liberals so delusional?</td>\n",
       "      <td>1</td>\n",
       "      <td>liberals delusional</td>\n",
       "    </tr>\n",
       "    <tr>\n",
       "      <th>694695</th>\n",
       "      <td>8810d4b39f9a08df9777</td>\n",
       "      <td>Don't Americans feel enslaved since they have ...</td>\n",
       "      <td>1</td>\n",
       "      <td>americans feel enslaved since tell policeman e...</td>\n",
       "    </tr>\n",
       "    <tr>\n",
       "      <th>530057</th>\n",
       "      <td>67c80a9af98cf04ceebd</td>\n",
       "      <td>When most Bangladeshi consider themselves Bang...</td>\n",
       "      <td>1</td>\n",
       "      <td>bangladeshi consider bangladeshi bengali first...</td>\n",
       "    </tr>\n",
       "    <tr>\n",
       "      <th>959688</th>\n",
       "      <td>bc06453c7c943e2bc209</td>\n",
       "      <td>If the democrats in the USA \"asks\" millions of...</td>\n",
       "      <td>1</td>\n",
       "      <td>democrats usa asks millions democrats register...</td>\n",
       "    </tr>\n",
       "    <tr>\n",
       "      <th>92975</th>\n",
       "      <td>123474aecf7c836136d4</td>\n",
       "      <td>Would forcing men to be injected with estrogen...</td>\n",
       "      <td>1</td>\n",
       "      <td>would forcing men injected estrogen instead te...</td>\n",
       "    </tr>\n",
       "    <tr>\n",
       "      <th>566940</th>\n",
       "      <td>6f14514a5a345f0384f1</td>\n",
       "      <td>What does the left think of their celebrities ...</td>\n",
       "      <td>1</td>\n",
       "      <td>left think celebrities congressmen tried bring...</td>\n",
       "    </tr>\n",
       "    <tr>\n",
       "      <th>823940</th>\n",
       "      <td>a174f276825f47a3f07e</td>\n",
       "      <td>Should white Americans pay a white privilege tax?</td>\n",
       "      <td>1</td>\n",
       "      <td>white americans pay white privilege tax</td>\n",
       "    </tr>\n",
       "    <tr>\n",
       "      <th>341465</th>\n",
       "      <td>42e33f67535fdbbf16cf</td>\n",
       "      <td>Did Obama want to bring freedom to Syria, like...</td>\n",
       "      <td>1</td>\n",
       "      <td>obama want bring freedom syria like hitler tri...</td>\n",
       "    </tr>\n",
       "  </tbody>\n",
       "</table>\n",
       "</div>"
      ],
      "text/plain": [
       "                         qid                        ...                                                             processed_text\n",
       "758416  94980117a140a86aec4a                        ...                          trump finally close criminal corrupt corporate...\n",
       "11388   023dd124e7f79ab80849                        ...                                               men high low iq common women\n",
       "478399  5dadf5ffa51839a040bb                        ...                                                        liberals delusional\n",
       "694695  8810d4b39f9a08df9777                        ...                          americans feel enslaved since tell policeman e...\n",
       "530057  67c80a9af98cf04ceebd                        ...                          bangladeshi consider bangladeshi bengali first...\n",
       "959688  bc06453c7c943e2bc209                        ...                          democrats usa asks millions democrats register...\n",
       "92975   123474aecf7c836136d4                        ...                          would forcing men injected estrogen instead te...\n",
       "566940  6f14514a5a345f0384f1                        ...                          left think celebrities congressmen tried bring...\n",
       "823940  a174f276825f47a3f07e                        ...                                    white americans pay white privilege tax\n",
       "341465  42e33f67535fdbbf16cf                        ...                          obama want bring freedom syria like hitler tri...\n",
       "\n",
       "[10 rows x 4 columns]"
      ]
     },
     "execution_count": 88,
     "metadata": {},
     "output_type": "execute_result"
    }
   ],
   "source": [
    "# Indeces of insincere questions correctly identified \n",
    "idx_mistakes = (test_pred == 1) & (test_df.target == 1)\n",
    "bold_begin = '\\033[1m'\n",
    "bold_end = '\\033[0m'\n",
    "print(\"{}{}{}\".format(bold_begin, \"Insincere questions correctly identified:\", bold_end))\n",
    "test_df[idx_mistakes].sample(n = 10)"
   ]
  },
  {
   "cell_type": "code",
   "execution_count": 86,
   "metadata": {
    "_uuid": "55776f6cef1edb9c6ee782e615e4d0fa24b7f415"
   },
   "outputs": [
    {
     "name": "stdout",
     "output_type": "stream",
     "text": [
      "\u001b[1m... and the insincere questions not identified by the model:\u001b[0m\n"
     ]
    },
    {
     "data": {
      "text/html": [
       "<div>\n",
       "<style scoped>\n",
       "    .dataframe tbody tr th:only-of-type {\n",
       "        vertical-align: middle;\n",
       "    }\n",
       "\n",
       "    .dataframe tbody tr th {\n",
       "        vertical-align: top;\n",
       "    }\n",
       "\n",
       "    .dataframe thead th {\n",
       "        text-align: right;\n",
       "    }\n",
       "</style>\n",
       "<table border=\"1\" class=\"dataframe\">\n",
       "  <thead>\n",
       "    <tr style=\"text-align: right;\">\n",
       "      <th></th>\n",
       "      <th>qid</th>\n",
       "      <th>question_text</th>\n",
       "      <th>target</th>\n",
       "      <th>processed_text</th>\n",
       "    </tr>\n",
       "  </thead>\n",
       "  <tbody>\n",
       "    <tr>\n",
       "      <th>927983</th>\n",
       "      <td>b5db2aaf1ac1e3862ae1</td>\n",
       "      <td>Why are Italian people so noisy?</td>\n",
       "      <td>1</td>\n",
       "      <td>italian people noisy</td>\n",
       "    </tr>\n",
       "    <tr>\n",
       "      <th>136569</th>\n",
       "      <td>1abc0aa692917c698a1f</td>\n",
       "      <td>Now that Facebook has revealed how it can mine...</td>\n",
       "      <td>1</td>\n",
       "      <td>facebook revealed mine use user data indians g...</td>\n",
       "    </tr>\n",
       "    <tr>\n",
       "      <th>113275</th>\n",
       "      <td>162956940b7b92340c26</td>\n",
       "      <td>Is patriarchy a result of natural selection fo...</td>\n",
       "      <td>1</td>\n",
       "      <td>patriarchy result natural selection humans goi...</td>\n",
       "    </tr>\n",
       "    <tr>\n",
       "      <th>269399</th>\n",
       "      <td>34bc4bef4a9876f85fe4</td>\n",
       "      <td>What was the best way to deal with debt collec...</td>\n",
       "      <td>1</td>\n",
       "      <td>best way deal debt collectors</td>\n",
       "    </tr>\n",
       "    <tr>\n",
       "      <th>1111168</th>\n",
       "      <td>d9bb754bd0adb4df0ab0</td>\n",
       "      <td>Is killing net neutrality our chance to make A...</td>\n",
       "      <td>1</td>\n",
       "      <td>killing net neutrality chance make americans a...</td>\n",
       "    </tr>\n",
       "    <tr>\n",
       "      <th>299151</th>\n",
       "      <td>3a93e86388a2ca40c125</td>\n",
       "      <td>Why do police pull you over and harass you whe...</td>\n",
       "      <td>1</td>\n",
       "      <td>police pull harass right travel without licens...</td>\n",
       "    </tr>\n",
       "    <tr>\n",
       "      <th>422108</th>\n",
       "      <td>52bc5784380a230e32e1</td>\n",
       "      <td>If astrologers are lunatics who talk to the sk...</td>\n",
       "      <td>1</td>\n",
       "      <td>astrologers lunatics talk sky priests</td>\n",
       "    </tr>\n",
       "    <tr>\n",
       "      <th>310008</th>\n",
       "      <td>3cba923004b082cad5e6</td>\n",
       "      <td>Why did the Romans not occupy what is now Saud...</td>\n",
       "      <td>1</td>\n",
       "      <td>romans occupy saudi arabia mecca medina smell oil</td>\n",
       "    </tr>\n",
       "    <tr>\n",
       "      <th>366509</th>\n",
       "      <td>47d636d195217e110293</td>\n",
       "      <td>How has India had developed its culture: noddi...</td>\n",
       "      <td>1</td>\n",
       "      <td>india developed culture nodding head means sha...</td>\n",
       "    </tr>\n",
       "    <tr>\n",
       "      <th>1009116</th>\n",
       "      <td>c5bc6c45b5cbda5769e0</td>\n",
       "      <td>Is mayonnaise an instrument?</td>\n",
       "      <td>1</td>\n",
       "      <td>mayonnaise instrument</td>\n",
       "    </tr>\n",
       "  </tbody>\n",
       "</table>\n",
       "</div>"
      ],
      "text/plain": [
       "                          qid                        ...                                                             processed_text\n",
       "927983   b5db2aaf1ac1e3862ae1                        ...                                                       italian people noisy\n",
       "136569   1abc0aa692917c698a1f                        ...                          facebook revealed mine use user data indians g...\n",
       "113275   162956940b7b92340c26                        ...                          patriarchy result natural selection humans goi...\n",
       "269399   34bc4bef4a9876f85fe4                        ...                                              best way deal debt collectors\n",
       "1111168  d9bb754bd0adb4df0ab0                        ...                          killing net neutrality chance make americans a...\n",
       "299151   3a93e86388a2ca40c125                        ...                          police pull harass right travel without licens...\n",
       "422108   52bc5784380a230e32e1                        ...                                      astrologers lunatics talk sky priests\n",
       "310008   3cba923004b082cad5e6                        ...                          romans occupy saudi arabia mecca medina smell oil\n",
       "366509   47d636d195217e110293                        ...                          india developed culture nodding head means sha...\n",
       "1009116  c5bc6c45b5cbda5769e0                        ...                                                      mayonnaise instrument\n",
       "\n",
       "[10 rows x 4 columns]"
      ]
     },
     "execution_count": 86,
     "metadata": {},
     "output_type": "execute_result"
    }
   ],
   "source": [
    "# Indeces of insincere questions correctly identified \n",
    "idx_mistakes = (test_pred == 0) & (test_df.target == 1)\n",
    "print(\"{}{}{}\".format(bold_begin, \"... and the insincere questions not identified by the model:\", bold_end))\n",
    "test_df[idx_mistakes].sample(n = 10)"
   ]
  },
  {
   "cell_type": "code",
   "execution_count": null,
   "metadata": {
    "_uuid": "fa1555182dbd5a8556ed12540d0c5e538bdef6fa",
    "collapsed": true
   },
   "outputs": [],
   "source": []
  }
 ],
 "metadata": {
  "kernelspec": {
   "display_name": "Python 2",
   "language": "python",
   "name": "python2"
  },
  "language_info": {
   "codemirror_mode": {
    "name": "ipython",
    "version": 2
   },
   "file_extension": ".py",
   "mimetype": "text/x-python",
   "name": "python",
   "nbconvert_exporter": "python",
   "pygments_lexer": "ipython2",
   "version": "2.7.14"
  }
 },
 "nbformat": 4,
 "nbformat_minor": 1
}
